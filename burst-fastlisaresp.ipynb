{
 "cells": [
  {
   "cell_type": "markdown",
   "metadata": {},
   "source": [
    "# Burst and glitches sampler\n",
    "\n",
    "# Plan\n",
    "1. generate dataset\n",
    "    1. create burst waveform (start with Sine-Gaussian toy model)\n",
    "    2. plug it in `LISAInstrument` and simulate it\n",
    "\n",
    "    OR\n",
    "    \n",
    "    3. do it with `fastlisaresponse`\n",
    "\n",
    "2. plug it in `lisaanalysistools` `AnalysisContainer`\n",
    "3. set up Eryn sampler"
   ]
  },
  {
   "cell_type": "markdown",
   "metadata": {},
   "source": [
    "## Imports"
   ]
  },
  {
   "cell_type": "code",
   "execution_count": 2,
   "metadata": {},
   "outputs": [],
   "source": [
    "import numpy as np\n",
    "import matplotlib.pyplot as plt\n",
    "%matplotlib inline\n",
    "from lisatools.utils.constants import *\n",
    "from copy import deepcopy  # can be useful"
   ]
  },
  {
   "cell_type": "code",
   "execution_count": 3,
   "metadata": {},
   "outputs": [],
   "source": [
    "import matplotlib as mpl\n",
    "# Set up plot style for all plots in the notebook\n",
    "mpl.rcParams.update({'axes.grid' : True,\n",
    "                     'figure.figsize': [10, 5]})\n",
    "# mpl.rcParams.items"
   ]
  },
  {
   "cell_type": "markdown",
   "metadata": {},
   "source": [
    "## Define Sine gaussian burst with sky localization parameters"
   ]
  },
  {
   "cell_type": "code",
   "execution_count": 4,
   "metadata": {},
   "outputs": [],
   "source": [
    "def SineGaussianBurst(A, f0, phi0, sigma, t0, t, **kwargs):\n",
    "    \"\"\"\n",
    "    A Sine-Gaussian function with 5 parameters.\n",
    "    \n",
    "    Inputs:\n",
    "     - A:     sine amplitude\n",
    "     - f0:    sine central frequency\n",
    "     - phi0:  sine intial phase\n",
    "     - sigma: gaussian width\n",
    "     - t0:    gaussian central time\n",
    "     - t:     time\n",
    "\n",
    "    Return:\n",
    "     - Sine-Gaussian\n",
    "    \"\"\"\n",
    "    S = A*np.cos(phi0 + 2*np.pi*f0*(t - t0))\n",
    "    G = np.exp(- (t - t0)**2 / (2*sigma**2))\n",
    "    \n",
    "    return S*G\n",
    "\n",
    "\n",
    "def periodic_SineGaussianBurst(glitch_param_list, t, period):\n",
    "    \"\"\"\n",
    "    Sum multiple Sine-Gaussian functions with 5 parameters.\n",
    "    Calls the `SineGaussian` function.\n",
    "    \n",
    "    Inputs:\n",
    "     - glitch_param_list: list of glitch parameter lists\n",
    "     - t:                 time\n",
    "\n",
    "    Return:\n",
    "     - Summed Sine-Gaussian\n",
    "    \"\"\"\n",
    "    template = SineGaussianBurst(*glitch_param_list, t)\n",
    "\n",
    "    reps = t[-1]/period\n",
    "    print(reps)\n",
    "    \n",
    "    for k in range(1,np.int64(reps)):\n",
    "        # First make sure there are no NaNs in the array!\n",
    "        template += SineGaussianBurst(*glitch_param_list, t-k*period) + SineGaussianBurst(*glitch_param_list, t+k*period)\n",
    "    return template"
   ]
  },
  {
   "cell_type": "code",
   "execution_count": 38,
   "metadata": {},
   "outputs": [
    {
     "data": {
      "text/plain": [
       "(9990.0, 10010.0)"
      ]
     },
     "execution_count": 38,
     "metadata": {},
     "output_type": "execute_result"
    },
    {
     "data": {
      "image/png": "[encoded data removed]",
      "text/plain": [
       "<Figure size 1000x500 with 1 Axes>"
      ]
     },
     "metadata": {},
     "output_type": "display_data"
    }
   ],
   "source": [
    "dt = 0.01\n",
    "\n",
    "times = np.arange(1000, 12000, dt)\n",
    "\n",
    "# sgparams = dict(\n",
    "A = 1e-18 # to get a peak height of 1e-21\n",
    "f0 = 1.8e-3\n",
    "phi0 = np.pi/2\n",
    "sigma = 0.3\n",
    "t0 = 10000\n",
    "\n",
    "lamb = np.pi/2\n",
    "beta = np.pi/3\n",
    "\n",
    "period = 20\n",
    "# )\n",
    "\n",
    "plt.plot(times, SineGaussianBurst(A, f0, phi0, sigma, t0, times))\n",
    "# plt.plot(times, periodic_SineGaussianBurst([A, f0, phi0, sigma, t0], times, period), ls='--')\n",
    "plt.xlim([9990,10010])"
   ]
  },
  {
   "cell_type": "markdown",
   "metadata": {},
   "source": [
    "## Define LISA Response wrapper\n"
   ]
  },
  {
   "cell_type": "code",
   "execution_count": 39,
   "metadata": {},
   "outputs": [],
   "source": [
    "# imports\n",
    "from fastlisaresponse import ResponseWrapper\n",
    "from lisatools.detector import EqualArmlengthOrbits"
   ]
  },
  {
   "cell_type": "code",
   "execution_count": 40,
   "metadata": {},
   "outputs": [],
   "source": [
    "# if burst_response:\n",
    "#     del burst_response \n",
    "\n",
    "Tobs = 0.001 # observation time in years\n",
    "tstart = 5000.0 # start time\n",
    "\n",
    "# order of the langrangian interpolation\n",
    "order = 25\n",
    "\n",
    "# 1st or 2nd or custom (see docs for custom)\n",
    "tdi_gen = \"2nd generation\"\n",
    "\n",
    "tdi_kwargs = dict(\n",
    "    order=order, tdi=tdi_gen, tdi_chan=\"XYZ\",\n",
    ")\n",
    "\n",
    "burst_response = ResponseWrapper(\n",
    "    waveform_gen = SineGaussianBurst, # it takes a generic waveform generator - can be whatever type of waveform you want\n",
    "    Tobs = Tobs,\n",
    "    dt = dt,\n",
    "    index_lambda = 6,\n",
    "    index_beta = 7,\n",
    "    t0 = tstart,\n",
    "    flip_hx = False,  # set to True if waveform is h+ - ihx\n",
    "    use_gpu = False,\n",
    "    remove_sky_coords = True,  # True if the waveform generator does not take sky coordinates\n",
    "    is_ecliptic_latitude = False,\n",
    "    remove_garbage= False,  # removes the beginning of the signal that has bad information\n",
    "    orbits = EqualArmlengthOrbits(),\n",
    "    **tdi_kwargs\n",
    ")"
   ]
  },
  {
   "cell_type": "code",
   "execution_count": 41,
   "metadata": {},
   "outputs": [
    {
     "data": {
      "text/plain": [
       "((3155815,), (3155815,))"
      ]
     },
     "execution_count": 41,
     "metadata": {},
     "output_type": "execute_result"
    }
   ],
   "source": [
    "times = np.arange(0, Tobs * YRSID_SI, dt)\n",
    "\n",
    "times.shape, SineGaussianBurst(A, f0, phi0, sigma, t0, times).shape\n"
   ]
  },
  {
   "cell_type": "code",
   "execution_count": 42,
   "metadata": {},
   "outputs": [],
   "source": [
    "\n",
    "# call response function and generate the TDI response\n",
    "tdis = burst_response(A, f0, phi0, sigma, tstart+t0, times, lamb, beta)"
   ]
  },
  {
   "cell_type": "code",
   "execution_count": 43,
   "metadata": {},
   "outputs": [
    {
     "data": {
      "text/plain": [
       "500000.0"
      ]
     },
     "execution_count": 43,
     "metadata": {},
     "output_type": "execute_result"
    }
   ],
   "source": [
    "tstart/dt"
   ]
  },
  {
   "cell_type": "code",
   "execution_count": 74,
   "metadata": {},
   "outputs": [
    {
     "data": {
      "text/plain": [
       "(7500.0, 7520.0)"
      ]
     },
     "execution_count": 74,
     "metadata": {},
     "output_type": "execute_result"
    },
    {
     "data": {
      "image/png": "[encoded data removed]",
      "text/plain": [
       "<Figure size 1000x500 with 1 Axes>"
      ]
     },
     "metadata": {},
     "output_type": "display_data"
    }
   ],
   "source": [
    "# plt.plot(times[int(tstart/dt)+1:-int(tstart/dt)], tdis[1])\n",
    "\n",
    "plt.plot(times[1:], tdis[0], label = 'TDI X')\n",
    "plt.plot(times[1:], tdis[1], label = 'TDI Y')\n",
    "plt.plot(times[1:], tdis[2], label = 'TDI Z')\n",
    "\n",
    "# plt.ylim([-1e-22,1e-22])\n",
    "plt.xlim([7500,7520])\n",
    "\n"
   ]
  },
  {
   "cell_type": "code",
   "execution_count": null,
   "metadata": {},
   "outputs": [],
   "source": []
  }
 ],
 "metadata": {
  "kernelspec": {
   "display_name": "base",
   "language": "python",
   "name": "python3"
  },
  "language_info": {
   "codemirror_mode": {
    "name": "ipython",
    "version": 3
   },
   "file_extension": ".py",
   "mimetype": "text/x-python",
   "name": "python",
   "nbconvert_exporter": "python",
   "pygments_lexer": "ipython3",
   "version": "3.12.2"
  }
 },
 "nbformat": 4,
 "nbformat_minor": 2
}
